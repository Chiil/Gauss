{
 "cells": [
  {
   "cell_type": "markdown",
   "metadata": {},
   "source": [
    "# The Gaussian Plume Model\n",
    "\n",
    "#### Maarten Krol & Antonija Rimac (Version 1.1, April, 2020)\n",
    "\n",
    "The Gaussian Plume Model (GPM) is a widely used tool in air pollution applications. Basically, the model is used to estimate the downwind air pollution concentrations, given information about the pollutant emissions and the nature of the atmosphere. GPMs form the basis for permits that are granted to large facilities to emit \"smelly\" or toxic compounds. But GPMs also form the basis of the Dutch model OPS that calculates Nitrogen deposition on nature areas.\n",
    "\n",
    "Everybody knows plumes from stacks or fires. An example from a large industrial explosion is given in Figure 1.\n",
    "\n",
    "<br>\n",
    "<div align=center>\n",
    "<figure>\n",
    "  <img src=\"Breda.png\", width=\"400\" height=\"300\">\n",
    "  <figcaption> <i>Figure 1: A plume from an industrial explosion in Breda 2014</i></figcaption>\n",
    "</figure>\n",
    "</div>\n",
    "\n",
    "As can be seen in Figure 1, the dispersion of pollutants is strongly influenced by turbulence in the boundary layer. The goal of this practical is to better understand the GPM. Specifically we will:\n",
    "* Explain the mathematical formulation of the GPM\n",
    "* Investigate the influence of wind, source strength, and stack height\n",
    "* Determine concentrations downwind of a stack\n",
    "* Investigate the influence of the atmospheric stability\n",
    "* Extend the GPM with terms for ground reflection and line sources"
   ]
  },
  {
   "cell_type": "markdown",
   "metadata": {},
   "source": [
    "### 1 The Basis of the GPM\n",
    "\n",
    "The GPM can be derived from the advection diffusion equation of a tracer. The basic concept is that concentrations downwind of a source spread laterally and vertically by turbulent motions in the atmospheric boundary layer. In a convective boundary, plumes will normally exhibit irregular behaviour, because of the strong turbulence and the large eddies that move the plume around. This can be observed in the movie below. The movie shows a result from a simulation of a plume in a slightly convective boundary layer (This is called a Large Eddy Simulation, courtesy: Chiel van Heerwaarden, MAQ). Note that we look at the plume from above, i.e., we look at the result plotted in xy-plane.\n",
    "\n",
    "<video controls width=\"80%\" src=\"movie_int.mp4\" />"
   ]
  },
  {
   "cell_type": "markdown",
   "metadata": {},
   "source": [
    "It is clear that we have to average over a certain time to get the stationary solution that forms the basis of the GPM. Typically, we need to average over at least 30 minutes. This also implies that if you measure the concentration downwind of a source, a single measurement does not always provide a reliable answer!\n",
    "The Gaussian plume model thus represents an **average situation**."
   ]
  },
  {
   "cell_type": "markdown",
   "metadata": {},
   "source": [
    "### 2 The Guassian Distribution\n",
    "\n",
    "The (stationary) concentration distribution downwind of a plume is assumed to be Gaussian. Mathematically this distribution is described by:\n",
    "\n",
    "$$ f(x) = \\frac{1}{\\sigma \\sqrt{2\\pi}}{\\rm exp}\\Bigg(-\\frac{1}{2}\\left(\\frac{x-\\mu}{\\sigma}\\right)^2\\Bigg)$$\n",
    "\n",
    "where $\\mu$ is the mean value, and $\\sigma$ is the standard deviation. The Gaussian curve is a so-called probability density function, also called the **normal distribution**. The Gaussian distribution is normalized by $\\frac{1}{\\sigma \\sqrt{2\\pi}}$, such that the sum over all values of $x$ gives a probability of 1. "
   ]
  },
  {
   "cell_type": "markdown",
   "metadata": {},
   "source": [
    "### Exercise 2: Change in the normal distribution\n",
    "\n",
    "Before we start, please save the notebook under \n",
    "> File > save as.. > Gauss/*yourname*\n",
    "\n",
    "To investigate the curve a bit more in detail, you can plot the Gaussian (normal) dsitribution by selecting the cell below (it will be highlighted) \n",
    "\n",
    "The first part of the program below is our calculation of the normal distribution. The second part presents the program in which you will change the mean and standard deviation to calculate and plot your own  normal distibution. But first, run the program (press **Shift-Enter** simultaneously in the selected cell below).\n",
    "\n",
    "The black line of the plotted figure is the Gaussian distribution. The green dotted line indicates the **mean** of the distribution. You can think of $x$ as the average length of a Wageningen student (e.g., 173 cm). The red and blue lines represent deviations from the mean by one and two standard deviations ($\\sigma$), respectively. The probablility to find a value of $x$ between the red lines is 68%. The corresponding probability for 2$\\sigma$ (i.e., blue lines) is 95%. The probability to find $x$ outside the blue lines is only 5%. And of course the total area under the curve is 1 (100%).\n",
    "\n",
    "Now you will run the program again but with your chosen values for the mean and standard deviation. Therefore, first remove the **#** signs standing in front of every line in the program below (written below the line starting with: ## Calculate normal distribution (Exercise)), and then change the mean and standard deviation, and replot the curve by pressing **Shift-Enter** simultaneously."
   ]
  },
  {
   "cell_type": "code",
   "execution_count": 1,
   "metadata": {},
   "outputs": [
    {
     "name": "stdout",
     "output_type": "stream",
     "text": [
      "Area under the curve:   1.00\n"
     ]
    },
    {
     "data": {
      "image/png": "[encoded data removed]",
      "text/plain": [
       "<Figure size 432x288 with 1 Axes>"
      ]
     },
     "metadata": {
      "needs_background": "light"
     },
     "output_type": "display_data"
    }
   ],
   "source": [
    "# Import important python libraries\n",
    "import matplotlib.pyplot as plt\n",
    "import numpy as np\n",
    "%matplotlib inline\n",
    "\n",
    "# Calculate normal distribution\n",
    "mu      = 173.0\n",
    "sigma   = 10.0\n",
    "x, step = np.linspace(mu-5*sigma, mu+5*sigma, num=1000, retstep=True)\n",
    "norm    = 1./(sigma*np.sqrt(np.pi*2))\n",
    "s1      = np.exp(-0.5*(1.0)**2)\n",
    "s2      = np.exp(-0.5*(2.0)**2)\n",
    "gauss   = norm*np.exp(-0.5*((x-mu)/sigma)**2)\n",
    "\n",
    "# Plot normal distribution\n",
    "fig1, ax = plt.subplots(1, figsize=(6,4))\n",
    "ax.plot(x,gauss,'k',lw=2)\n",
    "ax.plot([mu,mu],[0.0,norm],'g--' )\n",
    "ax.plot([mu+sigma,mu+sigma],[0,norm*s1],'r--')\n",
    "ax.plot([mu-sigma,mu-sigma],[0,norm*s1],'r--')\n",
    "ax.plot([mu+2*sigma,mu+2*sigma],[0,norm*s2],'b--')\n",
    "ax.plot([mu-2*sigma,mu-2*sigma],[0,norm*s2],'b--')\n",
    "ax.set_ylabel('pdf')\n",
    "ax.set_xlabel('x')\n",
    "ax.set_title('Normal distribution')\n",
    "print(\"Area under the curve: %6.2f\"%(gauss.sum()*step))\n",
    "\n",
    "## Calculate normal distribution (Exercise)\n",
    "#mu_exercise      = 110.0\n",
    "#sigma_exercise   = 50.0\n",
    "#x_exercise, step_exercise = np.linspace(mu_exercise-5*sigma_exercise, \n",
    "#                                        mu_exercise+5*sigma_exercise, num=1000, retstep=True)\n",
    "#norm_exercise    = 1./(sigma_exercise*np.sqrt(np.pi*2))\n",
    "#s1_exercise      = np.exp(-0.5*(1.0)**2)\n",
    "#s2_exercise      = np.exp(-0.5*(2.0)**2)\n",
    "#gauss_exercise   = norm_exercise*np.exp(-0.5*((x_exercise-mu_exercise)/sigma_exercise)**2)\n",
    "#\n",
    "#fig2, ax = plt.subplots(1, figsize=(6,4))\n",
    "#ax.plot(x_exercise,gauss_exercise,'k',lw=2)\n",
    "#ax.plot([mu_exercise,mu_exercise],[0.0,norm_exercise],'g--' )\n",
    "#ax.plot([mu_exercise+sigma_exercise,mu_exercise+sigma_exercise],[0,norm_exercise*s1_exercise],'r--')\n",
    "#ax.plot([mu_exercise-sigma_exercise,mu_exercise-sigma_exercise],[0,norm_exercise*s1_exercise],'r--')\n",
    "#ax.plot([mu_exercise+2*sigma_exercise,mu_exercise+2*sigma_exercise],[0,norm_exercise*s2_exercise],'b--')\n",
    "#ax.plot([mu_exercise-2*sigma_exercise,mu_exercise-2*sigma_exercise],[0,norm_exercise*s2_exercise],'b--')\n",
    "#ax.set_ylabel('pdf')\n",
    "#ax.set_xlabel('x')\n",
    "#ax.set_title('Normal distribution (exercise)')\n",
    "#print(\"Area under the curve (exercise): %6.2f\"%(gauss.sum()*step))"
   ]
  },
  {
   "cell_type": "markdown",
   "metadata": {},
   "source": [
    "### Question 2.1: How does the plot change if we change the mean and the standard deviation?\n",
    "\n",
    "**Your answer is:**"
   ]
  },
  {
   "cell_type": "markdown",
   "metadata": {},
   "source": [
    "### Question 2.2: How and where is the area under the curve calculated?\n",
    "\n",
    "**Your answer is:**"
   ]
  },
  {
   "cell_type": "markdown",
   "metadata": {},
   "source": [
    "The GPM model assumes that the concentration distributions (in the vertical and crosswind directions), downwind of a point emission source have a Gaussian dsitribution. So lets look at the GPM."
   ]
  },
  {
   "cell_type": "markdown",
   "metadata": {},
   "source": [
    "### 3 The Gaussian Plume Formula\n",
    "\n",
    "Now we will use the Gaussian function in the plume model. We consider the coordinate system as shown in Figure 2.\n",
    "\n",
    "<br>\n",
    "<div align=center>\n",
    "<figure>\n",
    "  <img src=\"Figure2.png\", width=\"400\" height=\"300\">\n",
    "  <figcaption> <i>Figure 2: Coordinate system of a Gaussian plume model</i></figcaption>\n",
    "</figure>\n",
    "</div>\n",
    "\n",
    "The source enters the atmosphere at height $H_e$ (stack height plus plume rise). The stack is located at $x=y=0$ m. The wind $u$ blows in the $+x$ direction. As you can see, the plume-spread in the $y$ and $z$ directions (gray shading) is described by Gaussian concentration profiles. Further characteristics of the Gaussian Plume are:\n",
    "\n",
    "* Depending on the atmospheric stability, $\\sigma_y$ and $\\sigma_z$ can have different values.\n",
    "* The parameters $\\sigma_y$ and $\\sigma_z$ depend on $x$: the further downwind, the wider the Gaussian dsitribution.\n",
    "* Since the Gaussian curve is normalized to 1, mass in the plume is conserved.\n",
    "\n",
    "The latter property implies that in every $yz$-cross-section along the $+x$ direction the same amount of plume exhaust passes and the following relation holds: \n",
    "\n",
    "$$ \\int_y \\int_z C\\ u\\ dy\\ dz = Q $$\n",
    "\n",
    "Here $Q$ is the source strength (in kg/s), $C$ is the atmospheric concentration (in kg/m$^3$) and $u$ is the windspeed (in m/s). Note that the variable $u$ is assumed to be constant over the domain and thus we can place it before the integral. \n",
    "\n",
    "The Gaussian plume formula reads:\n",
    "\n",
    "$$ C(x,y,z) = \\frac{Q}{2\\pi\\sigma_y\\sigma_zu}{\\rm exp}\\left(-\\frac{y^2}{2\\sigma_y^2}\\right)\n",
    "{\\rm exp}\\left(-\\frac{(z-H)^2}{2\\sigma_z^2}\\right)$$\n",
    "\n",
    "You can verify that the atmospheric concentration $C$ at location $x, y, z$ is a function of the source strength ($Q$), effective stack height ($H$), wind ($u$), $y$, $z$, $\\sigma_y$, and $\\sigma_z$. As we saw in Figure 2, these latter two $\\sigma$ values depend on $x$. The relation between $\\sigma$ and $x$ depends on the stability of the atmosphere, which will be discussed next. "
   ]
  },
  {
   "cell_type": "markdown",
   "metadata": {},
   "source": [
    "### Exercise 3: Units of the equations\n",
    "\n",
    "### Question 3.1: Can you verify the units of the two equations above?\n",
    "\n",
    "**Your answer is:**"
   ]
  },
  {
   "cell_type": "markdown",
   "metadata": {},
   "source": [
    "### 4 Influence of the atmospheric stability\n",
    "\n",
    "The static stability of the atmosphere strongly determines the dispersion of air polutants. In an unstable boundary layer, plumes are constantly moved up and down by rising and sinking motions. In contrast, mixing is strongly reduced in a stable boundary layer (e.g., at night, with low winds). Figure 3 shows how plumes can behave as a function of the temperature profile in the lower atmosphere. Looping, coning, and fanning occur during respectively unstable, neutral, and stable conditions. Note that the lower three panels exhibit temperature jumps near the top of the boundary layer. Remember also that stacks are often build to release (dangerous or smelly) air pollutants at higher altitudes!\n",
    "\n",
    "<br>\n",
    "<div align=center>\n",
    "<figure>\n",
    "  <img src=\"Stability.png\", width=\"400\" height=\"300\">\n",
    "  <figcaption> <i>Figure 3: Plumes from a strack under different stabilities of the atmosphere. The adiabatic temperature is indicated by the dashed line, and the true profile by the solid line.</i></figcaption>\n",
    "</figure>\n",
    "</div>    \n",
    "\n",
    "Much research has been devoted to establish relations between the parameters $\\sigma_y$ and $\\sigma_z$ and the atmospheric stability. In general, relations take the form:\n",
    "\n",
    "$$\\sigma_y = Fx^f$$\n",
    "$$\\sigma_z = Gx^g$$\n",
    "\n",
    "In this formula, the parameters $F$, $G$, $f$ and $g$ depend on the stability. Today we will use parameters that are listed in Table 1.\n",
    "\n",
    "<table>\n",
    "  <caption>Table 1: Gaussian plume dispersion parameters for different atmospheric stability classes.</caption>\n",
    "<tr>\n",
    "<th>Stability</th>\n",
    "<th>F</th>\n",
    "<th>f</th>\n",
    "<th>G</th>\n",
    "<th>g</th>   \n",
    "</tr>\n",
    "<tr>\n",
    "<td>Stable</td>\n",
    "<td>0.31</td>\n",
    "<td>0.71</td>\n",
    "<td>0.06</td>\n",
    "<td>0.71</td>\n",
    "</tr>\n",
    "<tr>\n",
    "<td>Neutral</td>\n",
    "<td>0.32</td>\n",
    "<td>0.78</td>\n",
    "<td>0.22</td>\n",
    "<td>0.78</td>\n",
    "</tr>\n",
    "<tr>\n",
    "<td>Unstable</td>\n",
    "<td>0.40</td>\n",
    "<td>0.91</td>\n",
    "<td>0.41</td>\n",
    "<td>0.91</td>\n",
    "</tr>\n",
    "</table>"
   ]
  },
  {
   "cell_type": "markdown",
   "metadata": {},
   "source": [
    "### Exercise 4:  Atmospheric stability\n",
    "\n",
    "In this exercise, we will look at the different atmospheric stability classes. \n"
   ]
  },
  {
   "cell_type": "markdown",
   "metadata": {},
   "source": [
    "### Question 4.1: What is the value of $\\sigma_y$ and $\\sigma_z$ at $x=1000$ m for three stability classes?\n",
    "\n",
    "**Your answer is:**"
   ]
  },
  {
   "cell_type": "markdown",
   "metadata": {},
   "source": [
    "### Question 4.2: What is the unit of $\\sigma$?\n",
    "\n",
    "**Your answer is:**"
   ]
  },
  {
   "cell_type": "markdown",
   "metadata": {},
   "source": [
    "### Question 4.3: Do you consider the values for $\\sigma$'s realistic (see figure 2)?\n",
    "\n",
    "**Your answer is:**"
   ]
  },
  {
   "cell_type": "markdown",
   "metadata": {},
   "source": [
    "### 5 Applying the Gaussian Plume Model\n",
    "\n",
    "The following cell contains a program to run the Guassian Plume model. It can be fully operated with sliders and drop down menus. You can set the main parameters of the GPM and determine the concentration in a receptor point (i.e., a house downwind of a stack). Moreover, $yz$, $xz$, and $xy$ concentration cross-sections will be plotted. \n",
    "Activate the program by selecting the cell below and press **Shift-Enter**. Note that you should re-run the cell before answering each question.\n"
   ]
  },
  {
   "cell_type": "code",
   "execution_count": 1,
   "metadata": {},
   "outputs": [
    {
     "data": {
      "text/html": [
       "\n",
       "    <div class=\"bk-root\">\n",
       "        <a href=\"https://bokeh.org\" target=\"_blank\" class=\"bk-logo bk-logo-small bk-logo-notebook\"></a>\n",
       "        <span id=\"1002\">Loading BokehJS ...</span>\n",
       "    </div>"
      ]
     },
     "metadata": {},
     "output_type": "display_data"
    },
    {
     "data": {
      "application/javascript": [
       "\n",
       "(function(root) {\n",
       "  function now() {\n",
       "    return new Date();\n",
       "  }\n",
       "\n",
       "  const force = true;\n",
       "\n",
       "  if (typeof root._bokeh_onload_callbacks === \"undefined\" || force === true) {\n",
       "    root._bokeh_onload_callbacks = [];\n",
       "    root._bokeh_is_loading = undefined;\n",
       "  }\n",
       "\n",
       "  const JS_MIME_TYPE = 'application/javascript';\n",
       "  const HTML_MIME_TYPE = 'text/html';\n",
       "  const EXEC_MIME_TYPE = 'application/vnd.bokehjs_exec.v0+json';\n",
       "  const CLASS_NAME = 'output_bokeh rendered_html';\n",
       "\n",
       "  /**\n",
       "   * Render data to the DOM node\n",
       "   */\n",
       "  function render(props, node) {\n",
       "    const script = document.createElement(\"script\");\n",
       "    node.appendChild(script);\n",
       "  }\n",
       "\n",
       "  /**\n",
       "   * Handle when an output is cleared or removed\n",
       "   */\n",
       "  function handleClearOutput(event, handle) {\n",
       "    const cell = handle.cell;\n",
       "\n",
       "    const id = cell.output_area._bokeh_element_id;\n",
       "    const server_id = cell.output_area._bokeh_server_id;\n",
       "    // Clean up Bokeh references\n",
       "    if (id != null && id in Bokeh.index) {\n",
       "      Bokeh.index[id].model.document.clear();\n",
       "      delete Bokeh.index[id];\n",
       "    }\n",
       "\n",
       "    if (server_id !== undefined) {\n",
       "      // Clean up Bokeh references\n",
       "      const cmd_clean = \"from bokeh.io.state import curstate; print(curstate().uuid_to_server['\" + server_id + \"'].get_sessions()[0].document.roots[0]._id)\";\n",
       "      cell.notebook.kernel.execute(cmd_clean, {\n",
       "        iopub: {\n",
       "          output: function(msg) {\n",
       "            const id = msg.content.text.trim();\n",
       "            if (id in Bokeh.index) {\n",
       "              Bokeh.index[id].model.document.clear();\n",
       "              delete Bokeh.index[id];\n",
       "            }\n",
       "          }\n",
       "        }\n",
       "      });\n",
       "      // Destroy server and session\n",
       "      const cmd_destroy = \"import bokeh.io.notebook as ion; ion.destroy_server('\" + server_id + \"')\";\n",
       "      cell.notebook.kernel.execute(cmd_destroy);\n",
       "    }\n",
       "  }\n",
       "\n",
       "  /**\n",
       "   * Handle when a new output is added\n",
       "   */\n",
       "  function handleAddOutput(event, handle) {\n",
       "    const output_area = handle.output_area;\n",
       "    const output = handle.output;\n",
       "\n",
       "    // limit handleAddOutput to display_data with EXEC_MIME_TYPE content only\n",
       "    if ((output.output_type != \"display_data\") || (!Object.prototype.hasOwnProperty.call(output.data, EXEC_MIME_TYPE))) {\n",
       "      return\n",
       "    }\n",
       "\n",
       "    const toinsert = output_area.element.find(\".\" + CLASS_NAME.split(' ')[0]);\n",
       "\n",
       "    if (output.metadata[EXEC_MIME_TYPE][\"id\"] !== undefined) {\n",
       "      toinsert[toinsert.length - 1].firstChild.textContent = output.data[JS_MIME_TYPE];\n",
       "      // store reference to embed id on output_area\n",
       "      output_area._bokeh_element_id = output.metadata[EXEC_MIME_TYPE][\"id\"];\n",
       "    }\n",
       "    if (output.metadata[EXEC_MIME_TYPE][\"server_id\"] !== undefined) {\n",
       "      const bk_div = document.createElement(\"div\");\n",
       "      bk_div.innerHTML = output.data[HTML_MIME_TYPE];\n",
       "      const script_attrs = bk_div.children[0].attributes;\n",
       "      for (let i = 0; i < script_attrs.length; i++) {\n",
       "        toinsert[toinsert.length - 1].firstChild.setAttribute(script_attrs[i].name, script_attrs[i].value);\n",
       "        toinsert[toinsert.length - 1].firstChild.textContent = bk_div.children[0].textContent\n",
       "      }\n",
       "      // store reference to server id on output_area\n",
       "      output_area._bokeh_server_id = output.metadata[EXEC_MIME_TYPE][\"server_id\"];\n",
       "    }\n",
       "  }\n",
       "\n",
       "  function register_renderer(events, OutputArea) {\n",
       "\n",
       "    function append_mime(data, metadata, element) {\n",
       "      // create a DOM node to render to\n",
       "      const toinsert = this.create_output_subarea(\n",
       "        metadata,\n",
       "        CLASS_NAME,\n",
       "        EXEC_MIME_TYPE\n",
       "      );\n",
       "      this.keyboard_manager.register_events(toinsert);\n",
       "      // Render to node\n",
       "      const props = {data: data, metadata: metadata[EXEC_MIME_TYPE]};\n",
       "      render(props, toinsert[toinsert.length - 1]);\n",
       "      element.append(toinsert);\n",
       "      return toinsert\n",
       "    }\n",
       "\n",
       "    /* Handle when an output is cleared or removed */\n",
       "    events.on('clear_output.CodeCell', handleClearOutput);\n",
       "    events.on('delete.Cell', handleClearOutput);\n",
       "\n",
       "    /* Handle when a new output is added */\n",
       "    events.on('output_added.OutputArea', handleAddOutput);\n",
       "\n",
       "    /**\n",
       "     * Register the mime type and append_mime function with output_area\n",
       "     */\n",
       "    OutputArea.prototype.register_mime_type(EXEC_MIME_TYPE, append_mime, {\n",
       "      /* Is output safe? */\n",
       "      safe: true,\n",
       "      /* Index of renderer in `output_area.display_order` */\n",
       "      index: 0\n",
       "    });\n",
       "  }\n",
       "\n",
       "  // register the mime type if in Jupyter Notebook environment and previously unregistered\n",
       "  if (root.Jupyter !== undefined) {\n",
       "    const events = require('base/js/events');\n",
       "    const OutputArea = require('notebook/js/outputarea').OutputArea;\n",
       "\n",
       "    if (OutputArea.prototype.mime_types().indexOf(EXEC_MIME_TYPE) == -1) {\n",
       "      register_renderer(events, OutputArea);\n",
       "    }\n",
       "  }\n",
       "\n",
       "  \n",
       "  if (typeof (root._bokeh_timeout) === \"undefined\" || force === true) {\n",
       "    root._bokeh_timeout = Date.now() + 5000;\n",
       "    root._bokeh_failed_load = false;\n",
       "  }\n",
       "\n",
       "  const NB_LOAD_WARNING = {'data': {'text/html':\n",
       "     \"<div style='background-color: #fdd'>\\n\"+\n",
       "     \"<p>\\n\"+\n",
       "     \"BokehJS does not appear to have successfully loaded. If loading BokehJS from CDN, this \\n\"+\n",
       "     \"may be due to a slow or bad network connection. Possible fixes:\\n\"+\n",
       "     \"</p>\\n\"+\n",
       "     \"<ul>\\n\"+\n",
       "     \"<li>re-rerun `output_notebook()` to attempt to load from CDN again, or</li>\\n\"+\n",
       "     \"<li>use INLINE resources instead, as so:</li>\\n\"+\n",
       "     \"</ul>\\n\"+\n",
       "     \"<code>\\n\"+\n",
       "     \"from bokeh.resources import INLINE\\n\"+\n",
       "     \"output_notebook(resources=INLINE)\\n\"+\n",
       "     \"</code>\\n\"+\n",
       "     \"</div>\"}};\n",
       "\n",
       "  function display_loaded() {\n",
       "    const el = document.getElementById(\"1002\");\n",
       "    if (el != null) {\n",
       "      el.textContent = \"BokehJS is loading...\";\n",
       "    }\n",
       "    if (root.Bokeh !== undefined) {\n",
       "      if (el != null) {\n",
       "        el.textContent = \"BokehJS \" + root.Bokeh.version + \" successfully loaded.\";\n",
       "      }\n",
       "    } else if (Date.now() < root._bokeh_timeout) {\n",
       "      setTimeout(display_loaded, 100)\n",
       "    }\n",
       "  }\n",
       "\n",
       "\n",
       "  function run_callbacks() {\n",
       "    try {\n",
       "      root._bokeh_onload_callbacks.forEach(function(callback) {\n",
       "        if (callback != null)\n",
       "          callback();\n",
       "      });\n",
       "    } finally {\n",
       "      delete root._bokeh_onload_callbacks\n",
       "    }\n",
       "    console.debug(\"Bokeh: all callbacks have finished\");\n",
       "  }\n",
       "\n",
       "  function load_libs(css_urls, js_urls, callback) {\n",
       "    if (css_urls == null) css_urls = [];\n",
       "    if (js_urls == null) js_urls = [];\n",
       "\n",
       "    root._bokeh_onload_callbacks.push(callback);\n",
       "    if (root._bokeh_is_loading > 0) {\n",
       "      console.debug(\"Bokeh: BokehJS is being loaded, scheduling callback at\", now());\n",
       "      return null;\n",
       "    }\n",
       "    if (js_urls == null || js_urls.length === 0) {\n",
       "      run_callbacks();\n",
       "      return null;\n",
       "    }\n",
       "    console.debug(\"Bokeh: BokehJS not loaded, scheduling load and callback at\", now());\n",
       "    root._bokeh_is_loading = css_urls.length + js_urls.length;\n",
       "\n",
       "    function on_load() {\n",
       "      root._bokeh_is_loading--;\n",
       "      if (root._bokeh_is_loading === 0) {\n",
       "        console.debug(\"Bokeh: all BokehJS libraries/stylesheets loaded\");\n",
       "        run_callbacks()\n",
       "      }\n",
       "    }\n",
       "\n",
       "    function on_error(url) {\n",
       "      console.error(\"failed to load \" + url);\n",
       "    }\n",
       "\n",
       "    for (let i = 0; i < css_urls.length; i++) {\n",
       "      const url = css_urls[i];\n",
       "      const element = document.createElement(\"link\");\n",
       "      element.onload = on_load;\n",
       "      element.onerror = on_error.bind(null, url);\n",
       "      element.rel = \"stylesheet\";\n",
       "      element.type = \"text/css\";\n",
       "      element.href = url;\n",
       "      console.debug(\"Bokeh: injecting link tag for BokehJS stylesheet: \", url);\n",
       "      document.body.appendChild(element);\n",
       "    }\n",
       "\n",
       "    for (let i = 0; i < js_urls.length; i++) {\n",
       "      const url = js_urls[i];\n",
       "      const element = document.createElement('script');\n",
       "      element.onload = on_load;\n",
       "      element.onerror = on_error.bind(null, url);\n",
       "      element.async = false;\n",
       "      element.src = url;\n",
       "      console.debug(\"Bokeh: injecting script tag for BokehJS library: \", url);\n",
       "      document.head.appendChild(element);\n",
       "    }\n",
       "  };\n",
       "\n",
       "  function inject_raw_css(css) {\n",
       "    const element = document.createElement(\"style\");\n",
       "    element.appendChild(document.createTextNode(css));\n",
       "    document.body.appendChild(element);\n",
       "  }\n",
       "\n",
       "  \n",
       "  const js_urls = [\"https://cdn.bokeh.org/bokeh/release/bokeh-2.4.2.min.js\", \"https://cdn.bokeh.org/bokeh/release/bokeh-gl-2.4.2.min.js\", \"https://cdn.bokeh.org/bokeh/release/bokeh-widgets-2.4.2.min.js\", \"https://cdn.bokeh.org/bokeh/release/bokeh-tables-2.4.2.min.js\", \"https://cdn.bokeh.org/bokeh/release/bokeh-mathjax-2.4.2.min.js\"];\n",
       "  const css_urls = [];\n",
       "  \n",
       "\n",
       "  const inline_js = [\n",
       "    function(Bokeh) {\n",
       "      Bokeh.set_log_level(\"info\");\n",
       "    },\n",
       "    function(Bokeh) {\n",
       "    \n",
       "    \n",
       "    }\n",
       "  ];\n",
       "\n",
       "  function run_inline_js() {\n",
       "    \n",
       "    if (root.Bokeh !== undefined || force === true) {\n",
       "      \n",
       "    for (let i = 0; i < inline_js.length; i++) {\n",
       "      inline_js[i].call(root, root.Bokeh);\n",
       "    }\n",
       "    if (force === true) {\n",
       "        display_loaded();\n",
       "      }} else if (Date.now() < root._bokeh_timeout) {\n",
       "      setTimeout(run_inline_js, 100);\n",
       "    } else if (!root._bokeh_failed_load) {\n",
       "      console.log(\"Bokeh: BokehJS failed to load within specified timeout.\");\n",
       "      root._bokeh_failed_load = true;\n",
       "    } else if (force !== true) {\n",
       "      const cell = $(document.getElementById(\"1002\")).parents('.cell').data().cell;\n",
       "      cell.output_area.append_execute_result(NB_LOAD_WARNING)\n",
       "    }\n",
       "\n",
       "  }\n",
       "\n",
       "  if (root._bokeh_is_loading === 0) {\n",
       "    console.debug(\"Bokeh: BokehJS loaded, going straight to plotting\");\n",
       "    run_inline_js();\n",
       "  } else {\n",
       "    load_libs(css_urls, js_urls, function() {\n",
       "      console.debug(\"Bokeh: BokehJS plotting callback run at\", now());\n",
       "      run_inline_js();\n",
       "    });\n",
       "  }\n",
       "}(window));"
      ],
      "application/vnd.bokehjs_load.v0+json": "\n(function(root) {\n  function now() {\n    return new Date();\n  }\n\n  const force = true;\n\n  if (typeof root._bokeh_onload_callbacks === \"undefined\" || force === true) {\n    root._bokeh_onload_callbacks = [];\n    root._bokeh_is_loading = undefined;\n  }\n\n  \n\n  \n  if (typeof (root._bokeh_timeout) === \"undefined\" || force === true) {\n    root._bokeh_timeout = Date.now() + 5000;\n    root._bokeh_failed_load = false;\n  }\n\n  const NB_LOAD_WARNING = {'data': {'text/html':\n     \"<div style='background-color: #fdd'>\\n\"+\n     \"<p>\\n\"+\n     \"BokehJS does not appear to have successfully loaded. If loading BokehJS from CDN, this \\n\"+\n     \"may be due to a slow or bad network connection. Possible fixes:\\n\"+\n     \"</p>\\n\"+\n     \"<ul>\\n\"+\n     \"<li>re-rerun `output_notebook()` to attempt to load from CDN again, or</li>\\n\"+\n     \"<li>use INLINE resources instead, as so:</li>\\n\"+\n     \"</ul>\\n\"+\n     \"<code>\\n\"+\n     \"from bokeh.resources import INLINE\\n\"+\n     \"output_notebook(resources=INLINE)\\n\"+\n     \"</code>\\n\"+\n     \"</div>\"}};\n\n  function display_loaded() {\n    const el = document.getElementById(\"1002\");\n    if (el != null) {\n      el.textContent = \"BokehJS is loading...\";\n    }\n    if (root.Bokeh !== undefined) {\n      if (el != null) {\n        el.textContent = \"BokehJS \" + root.Bokeh.version + \" successfully loaded.\";\n      }\n    } else if (Date.now() < root._bokeh_timeout) {\n      setTimeout(display_loaded, 100)\n    }\n  }\n\n\n  function run_callbacks() {\n    try {\n      root._bokeh_onload_callbacks.forEach(function(callback) {\n        if (callback != null)\n          callback();\n      });\n    } finally {\n      delete root._bokeh_onload_callbacks\n    }\n    console.debug(\"Bokeh: all callbacks have finished\");\n  }\n\n  function load_libs(css_urls, js_urls, callback) {\n    if (css_urls == null) css_urls = [];\n    if (js_urls == null) js_urls = [];\n\n    root._bokeh_onload_callbacks.push(callback);\n    if (root._bokeh_is_loading > 0) {\n      console.debug(\"Bokeh: BokehJS is being loaded, scheduling callback at\", now());\n      return null;\n    }\n    if (js_urls == null || js_urls.length === 0) {\n      run_callbacks();\n      return null;\n    }\n    console.debug(\"Bokeh: BokehJS not loaded, scheduling load and callback at\", now());\n    root._bokeh_is_loading = css_urls.length + js_urls.length;\n\n    function on_load() {\n      root._bokeh_is_loading--;\n      if (root._bokeh_is_loading === 0) {\n        console.debug(\"Bokeh: all BokehJS libraries/stylesheets loaded\");\n        run_callbacks()\n      }\n    }\n\n    function on_error(url) {\n      console.error(\"failed to load \" + url);\n    }\n\n    for (let i = 0; i < css_urls.length; i++) {\n      const url = css_urls[i];\n      const element = document.createElement(\"link\");\n      element.onload = on_load;\n      element.onerror = on_error.bind(null, url);\n      element.rel = \"stylesheet\";\n      element.type = \"text/css\";\n      element.href = url;\n      console.debug(\"Bokeh: injecting link tag for BokehJS stylesheet: \", url);\n      document.body.appendChild(element);\n    }\n\n    for (let i = 0; i < js_urls.length; i++) {\n      const url = js_urls[i];\n      const element = document.createElement('script');\n      element.onload = on_load;\n      element.onerror = on_error.bind(null, url);\n      element.async = false;\n      element.src = url;\n      console.debug(\"Bokeh: injecting script tag for BokehJS library: \", url);\n      document.head.appendChild(element);\n    }\n  };\n\n  function inject_raw_css(css) {\n    const element = document.createElement(\"style\");\n    element.appendChild(document.createTextNode(css));\n    document.body.appendChild(element);\n  }\n\n  \n  const js_urls = [\"https://cdn.bokeh.org/bokeh/release/bokeh-2.4.2.min.js\", \"https://cdn.bokeh.org/bokeh/release/bokeh-gl-2.4.2.min.js\", \"https://cdn.bokeh.org/bokeh/release/bokeh-widgets-2.4.2.min.js\", \"https://cdn.bokeh.org/bokeh/release/bokeh-tables-2.4.2.min.js\", \"https://cdn.bokeh.org/bokeh/release/bokeh-mathjax-2.4.2.min.js\"];\n  const css_urls = [];\n  \n\n  const inline_js = [\n    function(Bokeh) {\n      Bokeh.set_log_level(\"info\");\n    },\n    function(Bokeh) {\n    \n    \n    }\n  ];\n\n  function run_inline_js() {\n    \n    if (root.Bokeh !== undefined || force === true) {\n      \n    for (let i = 0; i < inline_js.length; i++) {\n      inline_js[i].call(root, root.Bokeh);\n    }\n    if (force === true) {\n        display_loaded();\n      }} else if (Date.now() < root._bokeh_timeout) {\n      setTimeout(run_inline_js, 100);\n    } else if (!root._bokeh_failed_load) {\n      console.log(\"Bokeh: BokehJS failed to load within specified timeout.\");\n      root._bokeh_failed_load = true;\n    } else if (force !== true) {\n      const cell = $(document.getElementById(\"1002\")).parents('.cell').data().cell;\n      cell.output_area.append_execute_result(NB_LOAD_WARNING)\n    }\n\n  }\n\n  if (root._bokeh_is_loading === 0) {\n    console.debug(\"Bokeh: BokehJS loaded, going straight to plotting\");\n    run_inline_js();\n  } else {\n    load_libs(css_urls, js_urls, function() {\n      console.debug(\"Bokeh: BokehJS plotting callback run at\", now());\n      run_inline_js();\n    });\n  }\n}(window));"
     },
     "metadata": {},
     "output_type": "display_data"
    },
    {
     "data": {
      "application/vnd.jupyter.widget-view+json": {
       "model_id": "6825d81e8ad64fc5bceef0c37378d783",
       "version_major": 2,
       "version_minor": 0
      },
      "text/plain": [
       "Box(children=(Box(children=(Label(value='Q : Strength of the source'), IntSlider(value=200, description=':', m…"
      ]
     },
     "metadata": {},
     "output_type": "display_data"
    },
    {
     "data": {
      "application/vnd.jupyter.widget-view+json": {
       "model_id": "9471225294aa4404a524e18ae192d33e",
       "version_major": 2,
       "version_minor": 0
      },
      "text/plain": [
       "Box(children=(Box(children=(Dropdown(description='Plume type', layout=Layout(visibility='hidden'), options=('p…"
      ]
     },
     "metadata": {},
     "output_type": "display_data"
    },
    {
     "data": {
      "application/vnd.jupyter.widget-view+json": {
       "model_id": "a0beb2d68e004fd2a7f448f21405b255",
       "version_major": 2,
       "version_minor": 0
      },
      "text/plain": [
       "interactive(children=(ToggleButton(value=False, description='Calculate'), Output()), _dom_classes=('widget-int…"
      ]
     },
     "metadata": {},
     "output_type": "display_data"
    }
   ],
   "source": [
    "%matplotlib inline \n",
    "from plot_gauss import *\n",
    "pg = plot_gauss(1)"
   ]
  },
  {
   "cell_type": "markdown",
   "metadata": {},
   "source": [
    "### Exercise 5: Use the Gaussiam Plume model\n",
    "\n",
    "Before you answer some questions, write down the concentration $C$ in the receptor point positioned at $x, y, z = 3000, 0, 50$ m and the values for $Q$, $H$, and $u$."
   ]
  },
  {
   "cell_type": "markdown",
   "metadata": {},
   "source": [
    "### Question 5.1: Verify the cross-section plots. Does the concentration value $C$ obtained using the program match the concentration value obtained analytically, i.e., using the GPM formula?\n",
    "\n",
    "**Your answer is:**"
   ]
  },
  {
   "cell_type": "markdown",
   "metadata": {},
   "source": [
    "### Question 5.2: Based on the GPM formula, what will happen to the concentration $C$ when you double the wind-speed? \n",
    "\n",
    "**Your answer is:**"
   ]
  },
  {
   "cell_type": "markdown",
   "metadata": {},
   "source": [
    "### Question 5.3: What will happen to the concentration $C$ when you double the source strength? Validate your answer by performing an experiment.\n",
    "\n",
    "**Your answer is:**"
   ]
  },
  {
   "cell_type": "markdown",
   "metadata": {},
   "source": [
    "### Question 5.4: The term $\\int_y\\int_z C\\ u\\ dy\\ dz$ is printed. Is the value equal to the source strength? \n",
    "\n",
    "**Your answer is:**\n",
    "\n",
    "Note that this will be in detail the subject of the next section."
   ]
  },
  {
   "cell_type": "markdown",
   "metadata": {},
   "source": [
    "### Question 5.5: What happens to the concentration in the receptor point when you change the stability to \"neutral\" and to \"stable\"?\n",
    "\n",
    "**Your answer is:**"
   ]
  },
  {
   "cell_type": "markdown",
   "metadata": {},
   "source": [
    "### Question 5.6: How does the plume shape change and what happens to $\\sigma_y$ and $\\sigma_z$ when you change the stability?\n",
    "\n",
    "**Your answer is:**"
   ]
  },
  {
   "cell_type": "markdown",
   "metadata": {},
   "source": [
    "### Question 5.7: In a stable atmosphere, what should be the height of the stack to bring the surface concentration (put z-position $= 0$) at $x = 3000$ m below 1 $\\mu$g/m$^3$? Use $Q$ = 200 kg/s and $u$ = 5 m/s.\n",
    "\n",
    "**Your answer is:**\n",
    "\n",
    "*Note: Write the value on the blackboard \"The stack height is ...m\" . A Mrs. Parcel goes to the first person with the right answer!*"
   ]
  },
  {
   "cell_type": "markdown",
   "metadata": {},
   "source": [
    "### 6 Plume reflection\n",
    "In the previous assignment, we sometimes \"missed\" part of the emitted material. This happens when the plume hits the Earth surface. The mathematical formulations does not \"know\" about the ground and simply extends the plume below the surface. There is the missing material!\n",
    "Only if the emitted compound is very reactive to the Earth surface (e.g. by efficient uptake), this might be a good approximation. However, mathematically it is easy to reflect the plume at the surface, as is illustrated in Figure 4.\n",
    "\n",
    "<br>\n",
    "<div align=center>\n",
    "<figure>\n",
    "  <img src=\"Figure4.png\", width=\"600\" height=\"400\">\n",
    "  <figcaption> <i>Figure 4: Concept of a plume reflecting at the surface.</i></figcaption>\n",
    "</figure>\n",
    "</div> \n",
    " \n",
    "This \"reflection term\" can be easily added to the formula:\n",
    "\n",
    "$$ C(x,y,z) = \\frac{Q}{2\\pi\\sigma_y\\sigma_zu}{\\rm exp}\\left(-\\frac{y^2}{2\\sigma_y^2}\\right)\n",
    "\\left( {\\rm exp}\\left(-\\frac{(z-H)^2}{2\\sigma_z^2}\\right) +\n",
    "{\\rm exp}\\left(-\\frac{(z+H)^2}{2\\sigma_z^2}\\right)\\right)\n",
    "$$\n",
    "\n",
    "As you can verify, an extra Gaussian term is added in the $z$-direction. In the following program, this plume reflection has been activated. "
   ]
  },
  {
   "cell_type": "markdown",
   "metadata": {},
   "source": [
    "### Exercise 6: The Gaussian Plume Model + the reflection term\n",
    "\n",
    "The following cell contains a program to run the Guassian Plume model where the reflection term is included. Activate the program by selecting the cell followed by **Shift-Enter**."
   ]
  },
  {
   "cell_type": "code",
   "execution_count": 3,
   "metadata": {},
   "outputs": [
    {
     "name": "stdout",
     "output_type": "stream",
     "text": [
      "At x = 3000 m Dispersion parameter y: 584 m  Dispersion parameter z: 598 m\n",
      "Integral c*u*dz*dy    200.0 kg/s \n"
     ]
    },
    {
     "data": {
      "image/png": "[encoded data removed]",
      "text/plain": [
       "<Figure size 1080x432 with 6 Axes>"
      ]
     },
     "metadata": {
      "needs_background": "light"
     },
     "output_type": "display_data"
    }
   ],
   "source": [
    "from plot_gauss import *\n",
    "pg = plot_gauss(2)"
   ]
  },
  {
   "cell_type": "markdown",
   "metadata": {},
   "source": [
    "### Question 6.1: Does the integral $\\int_y\\int_z C\\ u\\ dy\\ dz$ equal the source strength $Q$? And after changing $Q$?\n",
    "\n",
    "**Your answer is:**"
   ]
  },
  {
   "cell_type": "markdown",
   "metadata": {},
   "source": [
    "### Question 6.2: What is the  concentration enhancement at $x,y,z = 1000, 10, 90$ m in unstable, neutral, and stable atmospheric conditions when a stack with a height of 90 m emits 5 kg CO$_2$ per second? The wind speed is 8 m/s.\n",
    "\n",
    "**Your answer is:**"
   ]
  },
  {
   "cell_type": "markdown",
   "metadata": {},
   "source": [
    "### Question 6.3: What is the  concentration enhancement at $x,y,z = 1000, 10, 0$ m in unstable, neutral, and stable atmospheric conditions when a stack with a height of 90 m emits 5 kg CO$_2$ per second? The wind speed is 8 m/s.\n",
    "\n",
    "**Your answer is:**"
   ]
  },
  {
   "cell_type": "markdown",
   "metadata": {},
   "source": [
    "### Question 6.4: Can you explain the differences between the questions 6.2 and 6.3?\n",
    "\n",
    "Discuss your conclusion based on 1D plots (activate the 1D tickbox).\n",
    "\n",
    "**Your answer is:**"
   ]
  },
  {
   "cell_type": "markdown",
   "metadata": {},
   "source": [
    "### 7 The line source\n",
    "\n",
    "The final extension we make is to consider a line source. Important line source for policy applications are highways. In the line source model the unit of emission changes to kg/(ms): the emission of pollutants (e.g., NO) per second and **per m highway**. This emission can be deduced from the traffic density. The line source is placed along the $y$-axis. As a result, dispersion in the y-direction disappears from the Gaussan plume model:\n",
    "\n",
    "\n",
    "$$ C(x,y,z) = \\frac{Q}{\\sqrt{2\\pi}\\sigma_zu}\n",
    "\\left( {\\rm exp}\\left(-\\frac{(z-H)^2}{2\\sigma_z^2}\\right) +\n",
    "{\\rm exp}\\left(-\\frac{(z+H)^2}{2\\sigma_z^2}\\right)\\right)\n",
    "$$"
   ]
  },
  {
   "cell_type": "markdown",
   "metadata": {},
   "source": [
    "### Exercise 7: The line source in the Gaussian Plume Model\n",
    "\n",
    "In the following program, we will work with a line source. We will consider receptor points that are located downwind of a highway. Advanced options have been activated that allow for adapting the calculation grid. Note that surface reflection is still activated. Activate the program by selecting the cell followed by **Shift-Enter**"
   ]
  },
  {
   "cell_type": "code",
   "execution_count": 5,
   "metadata": {},
   "outputs": [
    {
     "data": {
      "text/html": [
       "\n",
       "    <div class=\"bk-root\">\n",
       "        <a href=\"https://bokeh.pydata.org\" target=\"_blank\" class=\"bk-logo bk-logo-small bk-logo-notebook\"></a>\n",
       "        <span id=\"5470\">Loading BokehJS ...</span>\n",
       "    </div>"
      ]
     },
     "metadata": {},
     "output_type": "display_data"
    },
    {
     "data": {
      "application/javascript": [
       "\n",
       "(function(root) {\n",
       "  function now() {\n",
       "    return new Date();\n",
       "  }\n",
       "\n",
       "  var force = true;\n",
       "\n",
       "  if (typeof root._bokeh_onload_callbacks === \"undefined\" || force === true) {\n",
       "    root._bokeh_onload_callbacks = [];\n",
       "    root._bokeh_is_loading = undefined;\n",
       "  }\n",
       "\n",
       "  var JS_MIME_TYPE = 'application/javascript';\n",
       "  var HTML_MIME_TYPE = 'text/html';\n",
       "  var EXEC_MIME_TYPE = 'application/vnd.bokehjs_exec.v0+json';\n",
       "  var CLASS_NAME = 'output_bokeh rendered_html';\n",
       "\n",
       "  /**\n",
       "   * Render data to the DOM node\n",
       "   */\n",
       "  function render(props, node) {\n",
       "    var script = document.createElement(\"script\");\n",
       "    node.appendChild(script);\n",
       "  }\n",
       "\n",
       "  /**\n",
       "   * Handle when an output is cleared or removed\n",
       "   */\n",
       "  function handleClearOutput(event, handle) {\n",
       "    var cell = handle.cell;\n",
       "\n",
       "    var id = cell.output_area._bokeh_element_id;\n",
       "    var server_id = cell.output_area._bokeh_server_id;\n",
       "    // Clean up Bokeh references\n",
       "    if (id != null && id in Bokeh.index) {\n",
       "      Bokeh.index[id].model.document.clear();\n",
       "      delete Bokeh.index[id];\n",
       "    }\n",
       "\n",
       "    if (server_id !== undefined) {\n",
       "      // Clean up Bokeh references\n",
       "      var cmd = \"from bokeh.io.state import curstate; print(curstate().uuid_to_server['\" + server_id + \"'].get_sessions()[0].document.roots[0]._id)\";\n",
       "      cell.notebook.kernel.execute(cmd, {\n",
       "        iopub: {\n",
       "          output: function(msg) {\n",
       "            var id = msg.content.text.trim();\n",
       "            if (id in Bokeh.index) {\n",
       "              Bokeh.index[id].model.document.clear();\n",
       "              delete Bokeh.index[id];\n",
       "            }\n",
       "          }\n",
       "        }\n",
       "      });\n",
       "      // Destroy server and session\n",
       "      var cmd = \"import bokeh.io.notebook as ion; ion.destroy_server('\" + server_id + \"')\";\n",
       "      cell.notebook.kernel.execute(cmd);\n",
       "    }\n",
       "  }\n",
       "\n",
       "  /**\n",
       "   * Handle when a new output is added\n",
       "   */\n",
       "  function handleAddOutput(event, handle) {\n",
       "    var output_area = handle.output_area;\n",
       "    var output = handle.output;\n",
       "\n",
       "    // limit handleAddOutput to display_data with EXEC_MIME_TYPE content only\n",
       "    if ((output.output_type != \"display_data\") || (!output.data.hasOwnProperty(EXEC_MIME_TYPE))) {\n",
       "      return\n",
       "    }\n",
       "\n",
       "    var toinsert = output_area.element.find(\".\" + CLASS_NAME.split(' ')[0]);\n",
       "\n",
       "    if (output.metadata[EXEC_MIME_TYPE][\"id\"] !== undefined) {\n",
       "      toinsert[toinsert.length - 1].firstChild.textContent = output.data[JS_MIME_TYPE];\n",
       "      // store reference to embed id on output_area\n",
       "      output_area._bokeh_element_id = output.metadata[EXEC_MIME_TYPE][\"id\"];\n",
       "    }\n",
       "    if (output.metadata[EXEC_MIME_TYPE][\"server_id\"] !== undefined) {\n",
       "      var bk_div = document.createElement(\"div\");\n",
       "      bk_div.innerHTML = output.data[HTML_MIME_TYPE];\n",
       "      var script_attrs = bk_div.children[0].attributes;\n",
       "      for (var i = 0; i < script_attrs.length; i++) {\n",
       "        toinsert[toinsert.length - 1].firstChild.setAttribute(script_attrs[i].name, script_attrs[i].value);\n",
       "      }\n",
       "      // store reference to server id on output_area\n",
       "      output_area._bokeh_server_id = output.metadata[EXEC_MIME_TYPE][\"server_id\"];\n",
       "    }\n",
       "  }\n",
       "\n",
       "  function register_renderer(events, OutputArea) {\n",
       "\n",
       "    function append_mime(data, metadata, element) {\n",
       "      // create a DOM node to render to\n",
       "      var toinsert = this.create_output_subarea(\n",
       "        metadata,\n",
       "        CLASS_NAME,\n",
       "        EXEC_MIME_TYPE\n",
       "      );\n",
       "      this.keyboard_manager.register_events(toinsert);\n",
       "      // Render to node\n",
       "      var props = {data: data, metadata: metadata[EXEC_MIME_TYPE]};\n",
       "      render(props, toinsert[toinsert.length - 1]);\n",
       "      element.append(toinsert);\n",
       "      return toinsert\n",
       "    }\n",
       "\n",
       "    /* Handle when an output is cleared or removed */\n",
       "    events.on('clear_output.CodeCell', handleClearOutput);\n",
       "    events.on('delete.Cell', handleClearOutput);\n",
       "\n",
       "    /* Handle when a new output is added */\n",
       "    events.on('output_added.OutputArea', handleAddOutput);\n",
       "\n",
       "    /**\n",
       "     * Register the mime type and append_mime function with output_area\n",
       "     */\n",
       "    OutputArea.prototype.register_mime_type(EXEC_MIME_TYPE, append_mime, {\n",
       "      /* Is output safe? */\n",
       "      safe: true,\n",
       "      /* Index of renderer in `output_area.display_order` */\n",
       "      index: 0\n",
       "    });\n",
       "  }\n",
       "\n",
       "  // register the mime type if in Jupyter Notebook environment and previously unregistered\n",
       "  if (root.Jupyter !== undefined) {\n",
       "    var events = require('base/js/events');\n",
       "    var OutputArea = require('notebook/js/outputarea').OutputArea;\n",
       "\n",
       "    if (OutputArea.prototype.mime_types().indexOf(EXEC_MIME_TYPE) == -1) {\n",
       "      register_renderer(events, OutputArea);\n",
       "    }\n",
       "  }\n",
       "\n",
       "  \n",
       "  if (typeof (root._bokeh_timeout) === \"undefined\" || force === true) {\n",
       "    root._bokeh_timeout = Date.now() + 5000;\n",
       "    root._bokeh_failed_load = false;\n",
       "  }\n",
       "\n",
       "  var NB_LOAD_WARNING = {'data': {'text/html':\n",
       "     \"<div style='background-color: #fdd'>\\n\"+\n",
       "     \"<p>\\n\"+\n",
       "     \"BokehJS does not appear to have successfully loaded. If loading BokehJS from CDN, this \\n\"+\n",
       "     \"may be due to a slow or bad network connection. Possible fixes:\\n\"+\n",
       "     \"</p>\\n\"+\n",
       "     \"<ul>\\n\"+\n",
       "     \"<li>re-rerun `output_notebook()` to attempt to load from CDN again, or</li>\\n\"+\n",
       "     \"<li>use INLINE resources instead, as so:</li>\\n\"+\n",
       "     \"</ul>\\n\"+\n",
       "     \"<code>\\n\"+\n",
       "     \"from bokeh.resources import INLINE\\n\"+\n",
       "     \"output_notebook(resources=INLINE)\\n\"+\n",
       "     \"</code>\\n\"+\n",
       "     \"</div>\"}};\n",
       "\n",
       "  function display_loaded() {\n",
       "    var el = document.getElementById(\"5470\");\n",
       "    if (el != null) {\n",
       "      el.textContent = \"BokehJS is loading...\";\n",
       "    }\n",
       "    if (root.Bokeh !== undefined) {\n",
       "      if (el != null) {\n",
       "        el.textContent = \"BokehJS \" + root.Bokeh.version + \" successfully loaded.\";\n",
       "      }\n",
       "    } else if (Date.now() < root._bokeh_timeout) {\n",
       "      setTimeout(display_loaded, 100)\n",
       "    }\n",
       "  }\n",
       "\n",
       "\n",
       "  function run_callbacks() {\n",
       "    try {\n",
       "      root._bokeh_onload_callbacks.forEach(function(callback) {\n",
       "        if (callback != null)\n",
       "          callback();\n",
       "      });\n",
       "    } finally {\n",
       "      delete root._bokeh_onload_callbacks\n",
       "    }\n",
       "    console.debug(\"Bokeh: all callbacks have finished\");\n",
       "  }\n",
       "\n",
       "  function load_libs(css_urls, js_urls, callback) {\n",
       "    if (css_urls == null) css_urls = [];\n",
       "    if (js_urls == null) js_urls = [];\n",
       "\n",
       "    root._bokeh_onload_callbacks.push(callback);\n",
       "    if (root._bokeh_is_loading > 0) {\n",
       "      console.debug(\"Bokeh: BokehJS is being loaded, scheduling callback at\", now());\n",
       "      return null;\n",
       "    }\n",
       "    if (js_urls == null || js_urls.length === 0) {\n",
       "      run_callbacks();\n",
       "      return null;\n",
       "    }\n",
       "    console.debug(\"Bokeh: BokehJS not loaded, scheduling load and callback at\", now());\n",
       "    root._bokeh_is_loading = css_urls.length + js_urls.length;\n",
       "\n",
       "    function on_load() {\n",
       "      root._bokeh_is_loading--;\n",
       "      if (root._bokeh_is_loading === 0) {\n",
       "        console.debug(\"Bokeh: all BokehJS libraries/stylesheets loaded\");\n",
       "        run_callbacks()\n",
       "      }\n",
       "    }\n",
       "\n",
       "    function on_error() {\n",
       "      console.error(\"failed to load \" + url);\n",
       "    }\n",
       "\n",
       "    for (var i = 0; i < css_urls.length; i++) {\n",
       "      var url = css_urls[i];\n",
       "      const element = document.createElement(\"link\");\n",
       "      element.onload = on_load;\n",
       "      element.onerror = on_error;\n",
       "      element.rel = \"stylesheet\";\n",
       "      element.type = \"text/css\";\n",
       "      element.href = url;\n",
       "      console.debug(\"Bokeh: injecting link tag for BokehJS stylesheet: \", url);\n",
       "      document.body.appendChild(element);\n",
       "    }\n",
       "\n",
       "    for (var i = 0; i < js_urls.length; i++) {\n",
       "      var url = js_urls[i];\n",
       "      var element = document.createElement('script');\n",
       "      element.onload = on_load;\n",
       "      element.onerror = on_error;\n",
       "      element.async = false;\n",
       "      element.src = url;\n",
       "      console.debug(\"Bokeh: injecting script tag for BokehJS library: \", url);\n",
       "      document.head.appendChild(element);\n",
       "    }\n",
       "  };var element = document.getElementById(\"5470\");\n",
       "  if (element == null) {\n",
       "    console.error(\"Bokeh: ERROR: autoload.js configured with elementid '5470' but no matching script tag was found. \")\n",
       "    return false;\n",
       "  }\n",
       "\n",
       "  function inject_raw_css(css) {\n",
       "    const element = document.createElement(\"style\");\n",
       "    element.appendChild(document.createTextNode(css));\n",
       "    document.body.appendChild(element);\n",
       "  }\n",
       "\n",
       "  var js_urls = [\"https://cdn.pydata.org/bokeh/release/bokeh-1.3.4.min.js\", \"https://cdn.pydata.org/bokeh/release/bokeh-widgets-1.3.4.min.js\", \"https://cdn.pydata.org/bokeh/release/bokeh-tables-1.3.4.min.js\", \"https://cdn.pydata.org/bokeh/release/bokeh-gl-1.3.4.min.js\"];\n",
       "  var css_urls = [];\n",
       "\n",
       "  var inline_js = [\n",
       "    function(Bokeh) {\n",
       "      Bokeh.set_log_level(\"info\");\n",
       "    },\n",
       "    \n",
       "    function(Bokeh) {\n",
       "      \n",
       "    },\n",
       "    function(Bokeh) {} // ensure no trailing comma for IE\n",
       "  ];\n",
       "\n",
       "  function run_inline_js() {\n",
       "    \n",
       "    if ((root.Bokeh !== undefined) || (force === true)) {\n",
       "      for (var i = 0; i < inline_js.length; i++) {\n",
       "        inline_js[i].call(root, root.Bokeh);\n",
       "      }if (force === true) {\n",
       "        display_loaded();\n",
       "      }} else if (Date.now() < root._bokeh_timeout) {\n",
       "      setTimeout(run_inline_js, 100);\n",
       "    } else if (!root._bokeh_failed_load) {\n",
       "      console.log(\"Bokeh: BokehJS failed to load within specified timeout.\");\n",
       "      root._bokeh_failed_load = true;\n",
       "    } else if (force !== true) {\n",
       "      var cell = $(document.getElementById(\"5470\")).parents('.cell').data().cell;\n",
       "      cell.output_area.append_execute_result(NB_LOAD_WARNING)\n",
       "    }\n",
       "\n",
       "  }\n",
       "\n",
       "  if (root._bokeh_is_loading === 0) {\n",
       "    console.debug(\"Bokeh: BokehJS loaded, going straight to plotting\");\n",
       "    run_inline_js();\n",
       "  } else {\n",
       "    load_libs(css_urls, js_urls, function() {\n",
       "      console.debug(\"Bokeh: BokehJS plotting callback run at\", now());\n",
       "      run_inline_js();\n",
       "    });\n",
       "  }\n",
       "}(window));"
      ],
      "application/vnd.bokehjs_load.v0+json": "\n(function(root) {\n  function now() {\n    return new Date();\n  }\n\n  var force = true;\n\n  if (typeof root._bokeh_onload_callbacks === \"undefined\" || force === true) {\n    root._bokeh_onload_callbacks = [];\n    root._bokeh_is_loading = undefined;\n  }\n\n  \n\n  \n  if (typeof (root._bokeh_timeout) === \"undefined\" || force === true) {\n    root._bokeh_timeout = Date.now() + 5000;\n    root._bokeh_failed_load = false;\n  }\n\n  var NB_LOAD_WARNING = {'data': {'text/html':\n     \"<div style='background-color: #fdd'>\\n\"+\n     \"<p>\\n\"+\n     \"BokehJS does not appear to have successfully loaded. If loading BokehJS from CDN, this \\n\"+\n     \"may be due to a slow or bad network connection. Possible fixes:\\n\"+\n     \"</p>\\n\"+\n     \"<ul>\\n\"+\n     \"<li>re-rerun `output_notebook()` to attempt to load from CDN again, or</li>\\n\"+\n     \"<li>use INLINE resources instead, as so:</li>\\n\"+\n     \"</ul>\\n\"+\n     \"<code>\\n\"+\n     \"from bokeh.resources import INLINE\\n\"+\n     \"output_notebook(resources=INLINE)\\n\"+\n     \"</code>\\n\"+\n     \"</div>\"}};\n\n  function display_loaded() {\n    var el = document.getElementById(\"5470\");\n    if (el != null) {\n      el.textContent = \"BokehJS is loading...\";\n    }\n    if (root.Bokeh !== undefined) {\n      if (el != null) {\n        el.textContent = \"BokehJS \" + root.Bokeh.version + \" successfully loaded.\";\n      }\n    } else if (Date.now() < root._bokeh_timeout) {\n      setTimeout(display_loaded, 100)\n    }\n  }\n\n\n  function run_callbacks() {\n    try {\n      root._bokeh_onload_callbacks.forEach(function(callback) {\n        if (callback != null)\n          callback();\n      });\n    } finally {\n      delete root._bokeh_onload_callbacks\n    }\n    console.debug(\"Bokeh: all callbacks have finished\");\n  }\n\n  function load_libs(css_urls, js_urls, callback) {\n    if (css_urls == null) css_urls = [];\n    if (js_urls == null) js_urls = [];\n\n    root._bokeh_onload_callbacks.push(callback);\n    if (root._bokeh_is_loading > 0) {\n      console.debug(\"Bokeh: BokehJS is being loaded, scheduling callback at\", now());\n      return null;\n    }\n    if (js_urls == null || js_urls.length === 0) {\n      run_callbacks();\n      return null;\n    }\n    console.debug(\"Bokeh: BokehJS not loaded, scheduling load and callback at\", now());\n    root._bokeh_is_loading = css_urls.length + js_urls.length;\n\n    function on_load() {\n      root._bokeh_is_loading--;\n      if (root._bokeh_is_loading === 0) {\n        console.debug(\"Bokeh: all BokehJS libraries/stylesheets loaded\");\n        run_callbacks()\n      }\n    }\n\n    function on_error() {\n      console.error(\"failed to load \" + url);\n    }\n\n    for (var i = 0; i < css_urls.length; i++) {\n      var url = css_urls[i];\n      const element = document.createElement(\"link\");\n      element.onload = on_load;\n      element.onerror = on_error;\n      element.rel = \"stylesheet\";\n      element.type = \"text/css\";\n      element.href = url;\n      console.debug(\"Bokeh: injecting link tag for BokehJS stylesheet: \", url);\n      document.body.appendChild(element);\n    }\n\n    for (var i = 0; i < js_urls.length; i++) {\n      var url = js_urls[i];\n      var element = document.createElement('script');\n      element.onload = on_load;\n      element.onerror = on_error;\n      element.async = false;\n      element.src = url;\n      console.debug(\"Bokeh: injecting script tag for BokehJS library: \", url);\n      document.head.appendChild(element);\n    }\n  };var element = document.getElementById(\"5470\");\n  if (element == null) {\n    console.error(\"Bokeh: ERROR: autoload.js configured with elementid '5470' but no matching script tag was found. \")\n    return false;\n  }\n\n  function inject_raw_css(css) {\n    const element = document.createElement(\"style\");\n    element.appendChild(document.createTextNode(css));\n    document.body.appendChild(element);\n  }\n\n  var js_urls = [\"https://cdn.pydata.org/bokeh/release/bokeh-1.3.4.min.js\", \"https://cdn.pydata.org/bokeh/release/bokeh-widgets-1.3.4.min.js\", \"https://cdn.pydata.org/bokeh/release/bokeh-tables-1.3.4.min.js\", \"https://cdn.pydata.org/bokeh/release/bokeh-gl-1.3.4.min.js\"];\n  var css_urls = [];\n\n  var inline_js = [\n    function(Bokeh) {\n      Bokeh.set_log_level(\"info\");\n    },\n    \n    function(Bokeh) {\n      \n    },\n    function(Bokeh) {} // ensure no trailing comma for IE\n  ];\n\n  function run_inline_js() {\n    \n    if ((root.Bokeh !== undefined) || (force === true)) {\n      for (var i = 0; i < inline_js.length; i++) {\n        inline_js[i].call(root, root.Bokeh);\n      }if (force === true) {\n        display_loaded();\n      }} else if (Date.now() < root._bokeh_timeout) {\n      setTimeout(run_inline_js, 100);\n    } else if (!root._bokeh_failed_load) {\n      console.log(\"Bokeh: BokehJS failed to load within specified timeout.\");\n      root._bokeh_failed_load = true;\n    } else if (force !== true) {\n      var cell = $(document.getElementById(\"5470\")).parents('.cell').data().cell;\n      cell.output_area.append_execute_result(NB_LOAD_WARNING)\n    }\n\n  }\n\n  if (root._bokeh_is_loading === 0) {\n    console.debug(\"Bokeh: BokehJS loaded, going straight to plotting\");\n    run_inline_js();\n  } else {\n    load_libs(css_urls, js_urls, function() {\n      console.debug(\"Bokeh: BokehJS plotting callback run at\", now());\n      run_inline_js();\n    });\n  }\n}(window));"
     },
     "metadata": {},
     "output_type": "display_data"
    },
    {
     "data": {
      "application/vnd.jupyter.widget-view+json": {
       "model_id": "53ebb180a4d549c3a25ed78bdff0defd",
       "version_major": 2,
       "version_minor": 0
      },
      "text/plain": [
       "Box(children=(Box(children=(Label(value='Q : Strength of the source'), IntSlider(value=1, description=':', max…"
      ]
     },
     "metadata": {},
     "output_type": "display_data"
    },
    {
     "data": {
      "application/vnd.jupyter.widget-view+json": {
       "model_id": "54f28c8c9a634e4488bdf403c137ac10",
       "version_major": 2,
       "version_minor": 0
      },
      "text/plain": [
       "Box(children=(Box(children=(Dropdown(description='Plume type', index=2, options=('point', 'point+reflection', …"
      ]
     },
     "metadata": {},
     "output_type": "display_data"
    },
    {
     "data": {
      "application/vnd.jupyter.widget-view+json": {
       "model_id": "e4aa2b70fbd449dab62c293bde857283",
       "version_major": 2,
       "version_minor": 0
      },
      "text/plain": [
       "interactive(children=(ToggleButton(value=False, description='Calculate'), Output()), _dom_classes=('widget-int…"
      ]
     },
     "metadata": {},
     "output_type": "display_data"
    }
   ],
   "source": [
    "from plot_gauss import *\n",
    "pg = plot_gauss(3)"
   ]
  },
  {
   "cell_type": "markdown",
   "metadata": {},
   "source": [
    "### Question 7.1: Can you verify the units of the line source model and check if the intregral $\\int_z C\\ u\\ dz$ equals the source strength $Q$?\n",
    "\n",
    "**Your answer is:**"
   ]
  },
  {
   "cell_type": "markdown",
   "metadata": {},
   "source": [
    "### Question 7.2: How does the concentration at $x, z=1000, 2$ m depend on the atmospheric stability?\n",
    "\n",
    "**Your answer is:**"
   ]
  },
  {
   "cell_type": "markdown",
   "metadata": {},
   "source": [
    "### 8 Extra: CO$_2$ vertical profiles at Cabauw\n",
    "\n",
    "The measurement tower at Cabauw is located 10560 m to the South-West of the highway A2. See Figure 5.\n",
    "The highway emits 1 kg CO$_2$ per second per m highway. Do to turbulence generated by traffic, we assume an effective emission height of 5 m.\n",
    "\n",
    "<br>\n",
    "<div align=center>\n",
    "<figure>\n",
    "  <img src=\"Cabauw.png\", width=\"600\" height=\"400\">\n",
    "  <figcaption> <i>Figure 5: From Google Maps: the location of Cabauw with respect to the A2.</i></figcaption>\n",
    "</figure>\n",
    "</div>\n",
    "\n",
    "The wind from the NE (5 m/s) blows straigt from the highway to Cabauw. At Cabauw, the CO$_2$ concentration is monitored at 10, 40, 80, 140, and 200 m along the tower."
   ]
  },
  {
   "cell_type": "markdown",
   "metadata": {},
   "source": [
    "### Exercise 8: Profiles Along the Cabauw tower\n",
    "\n",
    "Based on experiements with the line source model, sketch expected CO$_2$ concentration profiles along the Cabauw tower for unstable, neutral, and stable conditions."
   ]
  }
 ],
 "metadata": {
  "kernelspec": {
   "display_name": "Python 3 (ipykernel)",
   "language": "python",
   "name": "python3"
  },
  "language_info": {
   "codemirror_mode": {
    "name": "ipython",
    "version": 3
   },
   "file_extension": ".py",
   "mimetype": "text/x-python",
   "name": "python",
   "nbconvert_exporter": "python",
   "pygments_lexer": "ipython3",
   "version": "3.9.5"
  }
 },
 "nbformat": 4,
 "nbformat_minor": 4
}
